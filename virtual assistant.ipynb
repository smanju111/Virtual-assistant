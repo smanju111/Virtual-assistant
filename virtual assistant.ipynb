{
 "cells": [
  {
   "cell_type": "code",
   "execution_count": 1,
   "id": "fbce3413-b1fc-4bb0-bba2-8f4ead57a34f",
   "metadata": {},
   "outputs": [
    {
     "data": {
      "text/plain": [
       "'https://www.youtube.com/watch?v=d3x2aRN8IPg\\\\\\\\u0026pp=ygULcm9zZSBmbG93ZXI%3D'"
      ]
     },
     "execution_count": 1,
     "metadata": {},
     "output_type": "execute_result"
    }
   ],
   "source": [
    "import pywhatkit\n",
    "pywhatkit.playonyt(\"rose flower\")\n"
   ]
  },
  {
   "cell_type": "code",
   "execution_count": 2,
   "id": "07086e21-83e9-4497-ac49-ac74c9fe0922",
   "metadata": {},
   "outputs": [
    {
     "name": "stdout",
     "output_type": "stream",
     "text": [
      "Satya Narayana Nadella (; born 19 August 1967) is an Indian-American business executive. He is the executive chairman and CEO of Microsoft, succeeding Steve Ballmer in 2014 as CEO and John W. Thompson in 2021 as chairman. Before becoming CEO, he was the executive vice president of Microsoft's cloud and enterprise group, responsible for building and running the company's computing platforms.\n",
      "\n",
      "\n"
     ]
    }
   ],
   "source": [
    "import wikipedia\n",
    "result = wikipedia.summary(\"Microsoft CEO\")\n",
    "print(result)"
   ]
  },
  {
   "cell_type": "code",
   "execution_count": 3,
   "id": "fd11c512-66ec-4a4a-ae44-15a73ab41193",
   "metadata": {},
   "outputs": [],
   "source": [
    "import pyttsx3\n",
    "engine = pyttsx3.init()\n",
    "engine.say(\"Welcome to Machine Learning Tutorials\")\n",
    "engine.runAndWait()"
   ]
  },
  {
   "cell_type": "code",
   "execution_count": 5,
   "id": "6e692e4a-c741-443c-abe9-f1e1146b8f96",
   "metadata": {},
   "outputs": [
    {
     "name": "stdout",
     "output_type": "stream",
     "text": [
      "Say Something:\n",
      "You Said: hello\n"
     ]
    }
   ],
   "source": [
    "import speech_recognition as sr\n",
    "r = sr.Recognizer()\n",
    "with sr.Microphone() as source:\n",
    "    print(\"Say Something:\")\n",
    "    audio = r.listen(source)\n",
    "    text = r.recognize_google(audio)\n",
    "print(\"You Said:\",text)"
   ]
  },
  {
   "cell_type": "code",
   "execution_count": 6,
   "id": "d57ba701-ce1e-4460-84ab-2f16f865bb61",
   "metadata": {},
   "outputs": [
    {
     "name": "stdout",
     "output_type": "stream",
     "text": [
      "01:07 PM\n"
     ]
    }
   ],
   "source": [
    "import datetime\n",
    "time = datetime.datetime.now().strftime('%I:%m %p')\n",
    "print(time)\n"
   ]
  },
  {
   "cell_type": "code",
   "execution_count": 7,
   "id": "082b4b39-a0bc-411a-a921-596a39badbe6",
   "metadata": {},
   "outputs": [
    {
     "name": "stdout",
     "output_type": "stream",
     "text": [
      "11 Jul 2024\n"
     ]
    }
   ],
   "source": [
    "import datetime\n",
    "date = datetime.datetime.now().strftime('%d %b %Y')\n",
    "print(date)"
   ]
  },
  {
   "cell_type": "code",
   "execution_count": 10,
   "id": "07b9fabd-6c4c-48f2-a8ae-fbff79737fc2",
   "metadata": {},
   "outputs": [
    {
     "name": "stdout",
     "output_type": "stream",
     "text": [
      "goa\n",
      " Temperature (in Celcius unit) = 26.850000000000023\n",
      " atmospheric pressure (in hPa unit) = 1009\n",
      " humidity (in percentage) = 80\n",
      " description = overcast clouds\n"
     ]
    }
   ],
   "source": [
    "api_key = \"e226a2eaa720614632c86b91ec9868ee\"\n",
    "base_url = \"https://api.openweathermap.org/data/2.5/weather?\"\n",
    "\n",
    "city_name=\"goa\"\n",
    "print(city_name)\n",
    "\n",
    "complete_url = base_url + \"q=\" + city_name + \"&appid=\" + api_key\n",
    "response = requests.get(complete_url) \n",
    "\n",
    "x = response.json() \n",
    "if x[\"cod\"] != \"404\": \n",
    "    y = x[\"main\"] \n",
    "    current_temperature = y[\"temp\"] \n",
    "    current_pressure = y[\"pressure\"] \n",
    "    current_humidiy = y[\"humidity\"] \n",
    "    z = x[\"weather\"] \n",
    "    weather_description = z[0][\"description\"] \n",
    "    print(\" Temperature (in Celcius unit) = \" +\n",
    "                    str(int(current_temperature)-273.15) + \n",
    "          \"\\n atmospheric pressure (in hPa unit) = \" +\n",
    "                    str(current_pressure) +\n",
    "          \"\\n humidity (in percentage) = \" +\n",
    "                    str(current_humidiy) +\n",
    "          \"\\n description = \" +\n",
    "                    str(weather_description)) \n",
    "else: \n",
    "    print(\" City Not Found \")"
   ]
  },
  {
   "cell_type": "code",
   "execution_count": 9,
   "id": "c0ef6e2e-bbc1-4dd5-acfb-343746d550f8",
   "metadata": {},
   "outputs": [
    {
     "name": "stdout",
     "output_type": "stream",
     "text": [
      "Title: 1 Moto G85 5G smartphone with Snapdragon SoC, Sony Lytia sensor launched in India: Features, specs and price - The Hindu\n",
      "Title: 2 Tripura govt issues clarification on 'misleading' reports of HIV cases in state - The Economic Times\n",
      "Title: 3 Shubman Gill to sacrifice own spot for world champs Jaiswal, Samson and Dube: India's likely XI for 3rd T20I vs Zimbabwe - Hindustan Times\n",
      "Title: 4 'Not Charity, Right': Supreme Court's Big Alimony Order For Muslim Women - NDTV\n",
      "Title: 5 NASA reveals stunning image of moonlet orbiting asteroid in recent observations | Mint - Mint\n",
      "Title: 6 As Gautam Gambhir Gets India Coach Job, Wife Natasha's Reaction Can't Be Missed - NDTV Sports\n",
      "Title: 7 Bypolls Live Updates: TMC workers clash with BJP candidate in Bengal's Raiganj - Hindustan Times\n",
      "Title: 8 Victim Of ED's Witch-Hunt, Cancelling Bail Would Be Miscarriage Of Justice: Arvind Kejriwal To Delhi High ... - Live Law - Indian Legal News\n",
      "Title: 9 Supreme Court win for Bengal over CBI probe into Sandeshkhali without its nod - India Today\n",
      "Title: 10 Redmi 13 5G review in 5 points: A well-rounded budget daily driver - India Today\n"
     ]
    }
   ],
   "source": [
    "import requests\n",
    "import json\n",
    "a=requests.get(\"https://newsapi.org/v2/top-headlines?country=in&apiKey=9fe4be099c6c417a8c00b56ee67f9db5\") \n",
    "b=json.loads(a.text)\n",
    "for i in range(10):\n",
    "    my_data=b['articles'][i]['title']\n",
    "    print (\"Title:\",i+1,my_data)"
   ]
  },
  {
   "cell_type": "code",
   "execution_count": 11,
   "id": "ee2dd37f-36f0-490d-aeab-6cf2170f3916",
   "metadata": {},
   "outputs": [
    {
     "name": "stdout",
     "output_type": "stream",
     "text": [
      "What's the object-oriented way to become wealthy? Inheritance.\n"
     ]
    }
   ],
   "source": [
    "import pyjokes\n",
    "j = pyjokes.get_joke()\n",
    "print(j)\n"
   ]
  },
  {
   "cell_type": "code",
   "execution_count": 12,
   "id": "86766619-5cb5-44f2-98ef-d046f186222e",
   "metadata": {},
   "outputs": [
    {
     "name": "stdout",
     "output_type": "stream",
     "text": [
      "Say something!\n",
      "Check: hello\n",
      "What does pyjokes have in common with Adobe Flash? It gets updated all the time, but never gets any better.\n"
     ]
    }
   ],
   "source": [
    "import requests\n",
    "import wikipedia\n",
    "import pyaudio\n",
    "import speech_recognition as sr \n",
    "import requests\n",
    "import json\n",
    "import pywhatkit\n",
    "import datetime\n",
    "import pyjokes\n",
    "\n",
    "api_key = \"e226a2eaa720614632c86b91ec9868ee\"\n",
    "base_url = \"https://api.openweathermap.org/data/2.5/weather?\"\n",
    "\n",
    "r=sr.Recognizer()\n",
    "with sr.Microphone() as source:\n",
    "    print(\"Say something!\")\n",
    "    audio = r.listen(source)\n",
    "    a = r.recognize_google(audio)\n",
    "    a=a.lower()\n",
    "    print(\"Check: \"+a)\n",
    "\n",
    "if 'play' in a: \n",
    "    a = a[5:]\n",
    "    pywhatkit.playonyt(a)\n",
    "    \n",
    "elif 'news' in a:\n",
    "    a=requests.get(\"https://newsapi.org/v2/top-headlines?country=in&apiKey=9fe4be099c6c417a8c00b56ee67f9db5\") \n",
    "    b=json.loads(a.text)\n",
    "    for i in range(10):\n",
    "        my_data=b['articles'][i]['title']\n",
    "        print (\"Title:\",i+1,my_data)\n",
    "\n",
    "elif 'name' in a:\n",
    "    print(\"My name is Itronix Solutions\")\n",
    "\n",
    "elif 'date' in a:\n",
    "    date = datetime.datetime.now().strftime('%d %b %Y')\n",
    "    print(date)\n",
    "\n",
    "elif 'time' in a:\n",
    "    time = datetime.datetime.now().strftime('%I:%m %p')\n",
    "    print(time)\n",
    "\n",
    "elif 'joke':\n",
    "    j = pyjokes.get_joke()\n",
    "    print(j)\n",
    "\n",
    "elif 'tell' in a:\n",
    "    a=a.split()\n",
    "    a=a[4:]\n",
    "    search=' '.join(a)\n",
    "    print (wikipedia.summary(search))\n",
    "\n",
    "elif 'temperature' in a:\n",
    "    city_name=str(a.split()[-1:][0])\n",
    "    print(city_name)\n",
    "    complete_url = base_url + \"q=\" + city_name + \"&appid=\" + api_key\n",
    "    response = requests.get(complete_url) \n",
    "\n",
    "    x = response.json() \n",
    "    if x[\"cod\"] != \"404\": \n",
    "        y = x[\"main\"] \n",
    "        current_temperature = y[\"temp\"] \n",
    "        current_pressure = y[\"pressure\"] \n",
    "        current_humidiy = y[\"humidity\"] \n",
    "        z = x[\"weather\"] \n",
    "        weather_description = z[0][\"description\"] \n",
    "        print(\" Temperature (in Celcius unit) = \" +\n",
    "                        str(int(current_temperature)-273.15) + \n",
    "              \"\\n atmospheric pressure (in hPa unit) = \" +\n",
    "                        str(current_pressure) +\n",
    "              \"\\n humidity (in percentage) = \" +\n",
    "                        str(current_humidiy) +\n",
    "              \"\\n description = \" +\n",
    "                        str(weather_description)) \n",
    "    else: \n",
    "        print(\" City Not Found \") \n",
    "else:\n",
    "    print(\"Itronix Assistant Couldn't Understand\")"
   ]
  },
  {
   "cell_type": "code",
   "execution_count": null,
   "id": "f521f5ac-a624-41af-96df-66c748092616",
   "metadata": {},
   "outputs": [],
   "source": []
  }
 ],
 "metadata": {
  "kernelspec": {
   "display_name": "Python 3 (ipykernel)",
   "language": "python",
   "name": "python3"
  },
  "language_info": {
   "codemirror_mode": {
    "name": "ipython",
    "version": 3
   },
   "file_extension": ".py",
   "mimetype": "text/x-python",
   "name": "python",
   "nbconvert_exporter": "python",
   "pygments_lexer": "ipython3",
   "version": "3.11.7"
  }
 },
 "nbformat": 4,
 "nbformat_minor": 5
}
